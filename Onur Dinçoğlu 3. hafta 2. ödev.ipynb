{
 "cells": [
  {
   "cell_type": "markdown",
   "id": "ff87c8f7",
   "metadata": {},
   "source": [
    "# 1\n",
    "Kullanıcıdan maaş bilgisini isteyelim ve bu bilgiye göre maaşından ne kadar vergi kesileceğini hesaplayalım. (Oluşturulan vergi sistemi hayal ürünüdür :D)\n",
    "Kullanıcının geliri;\n",
    "- 10000 ve altındaysa maaşından %5 kesinti olsun.\n",
    "- 25000 ve altındaysa maaşından %10 kesinti olsun.\n",
    "- 45000 ve altındaysa maaşından %25 kesinti olsun.\n",
    "- Diğer koşullarda %30 kesinti olsun.\n",
    "\n",
    "Bu durumlara göre kullanıcının yeni maaşını yazdıralım."
   ]
  },
  {
   "cell_type": "code",
   "execution_count": 3,
   "id": "a6da3ea9",
   "metadata": {},
   "outputs": [
    {
     "name": "stdout",
     "output_type": "stream",
     "text": [
      "Maaşınızı yazınız:9000\n"
     ]
    }
   ],
   "source": [
    "maas = int(input(\"Maaşınızı yazınız:\"))"
   ]
  },
  {
   "cell_type": "code",
   "execution_count": 29,
   "id": "e639e550",
   "metadata": {},
   "outputs": [],
   "source": [
    "if maas <= 10000:\n",
    "    vergiorani = 0.05\n",
    "elif maas <= 25000:\n",
    "    vergiorani = 0.10\n",
    "elif maas <= 45000:\n",
    "    vergiorani = 0.25\n",
    "else:\n",
    "    vergiorani = 0.30"
   ]
  },
  {
   "cell_type": "code",
   "execution_count": 30,
   "id": "dfc7b22b",
   "metadata": {},
   "outputs": [],
   "source": [
    "vergi = maas * vergiorani\n",
    "yenimaas = maas - vergi"
   ]
  },
  {
   "cell_type": "code",
   "execution_count": 26,
   "id": "b81bc034",
   "metadata": {},
   "outputs": [
    {
     "name": "stdout",
     "output_type": "stream",
     "text": [
      "8550.0\n"
     ]
    }
   ],
   "source": [
    "print(yenimaas)"
   ]
  },
  {
   "cell_type": "markdown",
   "id": "77370310",
   "metadata": {},
   "source": [
    "# 2\n",
    "Kullanıcıdan kullanıcı adı ve şifre oluşturmasını isteyin. Şifrenin uzunluğu altı haneye ulaşmışsa hesabınız oluşturuldu mesajı alsın, altı haneden azsa altı haneli şifre oluşturması gerektiğinin mesajını alsın.(Sadece koşul kullanmanız yeterli.)"
   ]
  },
  {
   "cell_type": "code",
   "execution_count": 32,
   "id": "61ddc038",
   "metadata": {},
   "outputs": [
    {
     "name": "stdout",
     "output_type": "stream",
     "text": [
      "Kullanıcı adını giriniz:YellowOnur\n",
      "Şifrenizi belirleyiniz:2041496303\n"
     ]
    }
   ],
   "source": [
    "kullanici_adi = input(\"Kullanıcı adını giriniz:\")\n",
    "sifre = input(\"Şifrenizi belirleyiniz:\")"
   ]
  },
  {
   "cell_type": "code",
   "execution_count": 33,
   "id": "cdaa77b2",
   "metadata": {},
   "outputs": [
    {
     "name": "stdout",
     "output_type": "stream",
     "text": [
      "Hesabınız başarıyla oluşturuldu.\n"
     ]
    }
   ],
   "source": [
    "if len(sifre) >= 6:\n",
    "    print(\"Hesabınız başarıyla oluşturuldu.\")\n",
    "else:\n",
    "    print(\"Şifreniz en az altı haneli olmalıdır. Lütfen yeni bir şifre oluşturun.\")"
   ]
  },
  {
   "cell_type": "markdown",
   "id": "fd529538",
   "metadata": {},
   "source": [
    "# 3\n",
    "Bir önceki örneği geliştiriyoruz. \n",
    "\n",
    "- Kullanıcı girdiği şifre 5 ve 10 hane arasında olmak zorunda olsun. \n",
    "- Eğer bu koşula uyuyorsa \"Hesabınız oluşturuldu.\" mesajı alsın\n",
    "- Koşulu sağlamıyorsa \"Lütfen girdiniz şifre 5 haneden az 1 haneden fazla olmasın!\" uyarısı alsın.\n",
    "- Bunu oluştururken kullanıcı istediğimiz şartlarda şifre oluşturuna kadar sormaya devam etsin."
   ]
  },
  {
   "cell_type": "code",
   "execution_count": null,
   "id": "b882e6f9",
   "metadata": {},
   "outputs": [],
   "source": [
    "kullanici_adi1 = input(\"Kullanıcı adını giriniz:\")\n",
    "sifre1 = input(\"Şifrenizi belirleyiniz:\")"
   ]
  },
  {
   "cell_type": "code",
   "execution_count": null,
   "id": "126ebffd",
   "metadata": {},
   "outputs": [],
   "source": [
    "while True:\n",
    "    if len(sifre) > 10 and len(sifre) < 5:\n",
    "        print(\"Hesabınız başarıyla oluşturuldu.\")\n",
    "        break\n",
    "    else:\n",
    "        print(\"Lütfen girdiniz şifre 5 haneden az 1 haneden fazla olmasın! Lütfen yeni bir şifre oluşturun.\") "
   ]
  },
  {
   "cell_type": "markdown",
   "id": "2fd0417d",
   "metadata": {},
   "source": [
    "# 4\n",
    "- Kullanıcıdan isim ve şifre isteyeceğiz ve şifre girişi için üç hak vereceğiz. \n",
    "- Eğer önceden tanımlı şifre ile kullanıdan gelen şifre aynıysa \"Giriş yapıldı.\" yazsın. \n",
    "- Şifre girişi yanlışşa \"Yanlış şifre girildi!\" uyarısı verilsin ve üç yanlış denemede program bitsin.\n",
    "- Tercihe göre kalan hak bilgisi verilsin"
   ]
  },
  {
   "cell_type": "code",
   "execution_count": null,
   "id": "41d69a99",
   "metadata": {},
   "outputs": [],
   "source": [
    "hak = 3 \n",
    "while kalacak_hak > 0:\n",
    "    \n",
    "    girilenkullanici_adi = input(\"Kullanıcı adınızı girin: \")\n",
    "    girilensifre = input(\"Şifrenizi girin: \")\n",
    "\n",
    "    if kullanici_adi == girilenkullanici_adi and sifre == girilensifre:\n",
    "        print(\"Giriş yapıldı.\")\n",
    "        break\n",
    "    else:\n",
    "        hak -= 1\n",
    "        if hak > 0:\n",
    "            print(\"Yanlış şifre girildi! Kalan deneme hakkınız: {kalacak_hak}\")\n",
    "        else:\n",
    "            print(\"Üç kez yanlış şifre girişi yaptınız. Program sonlandırılıyor.\")"
   ]
  },
  {
   "cell_type": "code",
   "execution_count": null,
   "id": "0b2f8b28",
   "metadata": {},
   "outputs": [],
   "source": []
  },
  {
   "cell_type": "code",
   "execution_count": null,
   "id": "23ad44d0",
   "metadata": {},
   "outputs": [],
   "source": []
  }
 ],
 "metadata": {
  "kernelspec": {
   "display_name": "Python 3 (ipykernel)",
   "language": "python",
   "name": "python3"
  },
  "language_info": {
   "codemirror_mode": {
    "name": "ipython",
    "version": 3
   },
   "file_extension": ".py",
   "mimetype": "text/x-python",
   "name": "python",
   "nbconvert_exporter": "python",
   "pygments_lexer": "ipython3",
   "version": "3.11.4"
  }
 },
 "nbformat": 4,
 "nbformat_minor": 5
}
